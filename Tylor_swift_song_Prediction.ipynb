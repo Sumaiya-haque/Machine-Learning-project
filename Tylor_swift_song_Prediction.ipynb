{
  "nbformat": 4,
  "nbformat_minor": 0,
  "metadata": {
    "colab": {
      "provenance": [],
      "include_colab_link": true
    },
    "kernelspec": {
      "name": "python3",
      "display_name": "Python 3"
    },
    "language_info": {
      "name": "python"
    }
  },
  "cells": [
    {
      "cell_type": "markdown",
      "metadata": {
        "id": "view-in-github",
        "colab_type": "text"
      },
      "source": [
        "<a href=\"https://colab.research.google.com/github/Sumaiya-haque/Machine-Learning-project/blob/main/Tylor_swift_song_Prediction.ipynb\" target=\"_parent\"><img src=\"https://colab.research.google.com/assets/colab-badge.svg\" alt=\"Open In Colab\"/></a>"
      ]
    },
    {
      "cell_type": "markdown",
      "source": [
        "import pandas as pd\n",
        "from sklearn.feature_extraction.text import TfidfVectorizer\n",
        "from sklearn.cluster import KMeans\n",
        "\n",
        "# Load the dataset\n",
        "data = pd.read_csv(\"TaylorSwift.csv\")\n",
        "\n",
        "# Extract the lyrics from the dataset\n",
        "lyrics = data[\"Lyric\"]\n",
        "\n",
        "# Vectorize the lyrics using TF-IDF vectorizer\n",
        "vectorizer = TfidfVectorizer()\n",
        "X = vectorizer.fit_transform(Lyric)\n",
        "\n",
        "# Apply K-means clustering\n",
        "num_clusters = 5  # Change this value based on the desired number of clusters/genres\n",
        "kmeans = KMeans(n_clusters=num_clusters, random_state=42)\n",
        "kmeans.fit(X)\n",
        "\n",
        "# Assign cluster labels to each song\n",
        "cluster_labels = kmeans.labels_\n",
        "\n",
        "# Print the cluster labels\n",
        "for i in range(len(Lyric)):\n",
        "    print(\"Song:\", Lyric[i])\n",
        "    print(\"Cluster Label:\", cluster_labels[i])\n",
        "    print(\"----------------------------------\")\n"
      ],
      "metadata": {
        "id": "DhwqIWdzCUP2"
      }
    },
    {
      "cell_type": "code",
      "source": [
        "import pandas as pd\n",
        "import matplotlib.pyplot as plt\n",
        "import seaborn as sns\n",
        "from sklearn.feature_extraction.text import TfidfVectorizer\n",
        "from sklearn.cluster import KMeans\n",
        "from nltk.corpus import stopwords\n",
        "import nltk\n",
        "from nltk.corpus import wordnet\n",
        "\n",
        "# Load the dataset\n",
        "data = pd.read_csv(\"/TaylorSwift.csv\")\n",
        "nltk.download('stopwords')\n",
        "nltk.download('wordnet')\n",
        "# Drop rows with missing values in the \"Lyric\" column\n",
        "data.dropna(subset=[\"Lyric\"], inplace=True)\n",
        "\n",
        "# Extract the lyrics from the dataset\n",
        "lyrics = data[\"Lyric\"]\n",
        "\n",
        "# Tokenize the lyrics and remove stopwords\n",
        "stop_words = stopwords.words(\"english\")\n",
        "vectorizer = TfidfVectorizer(stop_words=stop_words)\n",
        "X = vectorizer.fit_transform(lyrics)\n",
        "\n",
        "# Apply K-means clustering\n",
        "k = 4  # Number of clusters (feelings)\n",
        "kmeans = KMeans(n_clusters=k, random_state=42)\n",
        "kmeans.fit(X)\n",
        "\n",
        "# Define the mapping of cluster labels to feelings\n",
        "feeling_mapping = {\n",
        "    0: \"Happy\",\n",
        "    1: \"Sad\",\n",
        "    2: \"Party\",\n",
        "    3: \"Romantic\"\n",
        "}\n",
        "\n",
        "# Get the cluster labels\n",
        "feelings = kmeans.labels_\n",
        "\n",
        "# Map the cluster labels to feelings\n",
        "feelings = [feeling_mapping[label] for label in feelings]\n",
        "\n",
        "# Assign feelings to each song\n",
        "data[\"Feeling\"] = feelings\n",
        "\n",
        "# Count the number of songs per feeling\n",
        "feeling_counts = data[\"Feeling\"].value_counts()\n",
        "\n",
        "# Plot the bar graph\n",
        "plt.figure(figsize=(8, 6))\n",
        "sns.barplot(x=feeling_counts.index, y=feeling_counts.values)\n",
        "plt.xlabel(\"Feeling\")\n",
        "plt.ylabel(\"Number of Songs\")\n",
        "plt.title(\"Song Feelings Distribution\")\n",
        "plt.show()\n",
        "\n",
        "from sklearn.model_selection import GridSearchCV\n",
        "\n",
        "# Define the parameter grid\n",
        "param_grid = {\n",
        "    'n_clusters': [2, 3, 4, 5],  # Try different numbers of clusters\n",
        "    'init': ['k-means++', 'random'],  # Try different initialization methods\n",
        "    'max_iter': [100, 200, 300]  # Try different numbers of iterations\n",
        "}\n",
        "\n",
        "# Perform grid search\n",
        "grid_search = GridSearchCV(KMeans(random_state=42), param_grid, cv=3)\n",
        "grid_search.fit(X)\n",
        "\n",
        "# Get the best hyperparameters\n",
        "best_params = grid_search.best_params_\n",
        "print(\"Best Hyperparameters:\", best_params)\n",
        "\n",
        "# Initialize K-means with the best hyperparameters\n",
        "kmeans = KMeans(n_clusters=best_params['n_clusters'], init=best_params['init'], max_iter=best_params['max_iter'], random_state=42)\n",
        "kmeans.fit(X)\n",
        "\n",
        "\n",
        "def get_feeling_keywords(feeling):\n",
        "    # Define the WordNet synsets for each feeling\n",
        "    feeling_synsets = {\n",
        "        \"Happy\": [\"joy\", \"happiness\", \"pleasure\", \"cheer\", \"delight\", \"celebration\"],\n",
        "        \"Sad\": [\"sorrow\", \"grief\", \"heartache\", \"misery\", \"despair\", \"loneliness\"],\n",
        "        \"Party\": [\"celebration\", \"fun\", \"dance\", \"enjoyment\", \"festivity\", \"cheer\"],\n",
        "        \"Romantic\": [\"love\", \"affection\", \"desire\", \"intimacy\", \"romance\"]\n",
        "    }\n",
        "\n",
        "    # Get the WordNet synsets for the given feeling keywords\n",
        "    synsets = [wordnet.synsets(keyword) for keyword in feeling_synsets[feeling]]\n",
        "    synsets = [synset for sublist in synsets for synset in sublist]\n",
        "\n",
        "    # Extract the lemma names from the synsets\n",
        "    lemma_names = [lemma.name() for synset in synsets for lemma in synset.lemmas()]\n",
        "\n",
        "    # Return a set of unique feeling keywords\n",
        "    return set(lemma_names)\n",
        "\n",
        "def predict_feeling_for_lyrics(lyrics_input):\n",
        "    # Preprocess the input lyrics\n",
        "    preprocessed_lyrics = vectorizer.transform([lyrics_input])\n",
        "\n",
        "    # Get the feeling keywords for each feeling\n",
        "    feeling_keywords = {feeling: get_feeling_keywords(feeling) for feeling in feeling_mapping.values()}\n",
        "\n",
        "    # Tokenize the input lyrics\n",
        "    tokenized_lyrics = vectorizer.inverse_transform(preprocessed_lyrics)[0]\n",
        "\n",
        "    # Predict the feeling based on matching keywords\n",
        "    predicted_feeling = None\n",
        "    max_matching_keywords = 0\n",
        "\n",
        "    for feeling, keywords in feeling_keywords.items():\n",
        "        matching_keywords = len(set(tokenized_lyrics) & keywords)\n",
        "        if matching_keywords > max_matching_keywords:\n",
        "            max_matching_keywords = matching_keywords\n",
        "            predicted_feeling = feeling\n",
        "\n",
        "    return predicted_feeling\n",
        "\n",
        "# Display the lyrics and their corresponding feelings for all songs\n",
        "print(data[[\"Lyric\", \"Feeling\"]])\n",
        "\n",
        "# Example usage\n",
        "new_lyrics = \"I woke up this morning with a smile on my faceFeeling the sunshine, embracing the grace Every moment is filled with pure delightIn this world of happiness, everything feels right\"\n",
        "predicted_feeling = predict_feeling_for_lyrics(new_lyrics)\n",
        "print(\"Predicted Feeling:\", predicted_feeling)\n"
      ],
      "metadata": {
        "colab": {
          "base_uri": "https://localhost:8080/",
          "height": 948
        },
        "id": "WJlTeohNEh3I",
        "outputId": "aa55c757-4d78-4bcc-9499-9080f3bd6d00"
      },
      "execution_count": null,
      "outputs": [
        {
          "output_type": "stream",
          "name": "stderr",
          "text": [
            "[nltk_data] Downloading package stopwords to /root/nltk_data...\n",
            "[nltk_data]   Package stopwords is already up-to-date!\n",
            "[nltk_data] Downloading package wordnet to /root/nltk_data...\n",
            "[nltk_data]   Package wordnet is already up-to-date!\n",
            "/usr/local/lib/python3.10/dist-packages/sklearn/cluster/_kmeans.py:870: FutureWarning: The default value of `n_init` will change from 10 to 'auto' in 1.4. Set the value of `n_init` explicitly to suppress the warning\n",
            "  warnings.warn(\n"
          ]
        },
        {
          "output_type": "display_data",
          "data": {
            "text/plain": [
              "<Figure size 800x600 with 1 Axes>"
            ],
            "image/png": "[encoded data removed]"
          },
          "metadata": {}
        },
        {
          "output_type": "stream",
          "name": "stderr",
          "text": [
            "/usr/local/lib/python3.10/dist-packages/sklearn/cluster/_kmeans.py:870: FutureWarning: The default value of `n_init` will change from 10 to 'auto' in 1.4. Set the value of `n_init` explicitly to suppress the warning\n",
            "  warnings.warn(\n"
          ]
        },
        {
          "output_type": "stream",
          "name": "stdout",
          "text": [
            "Best Hyperparameters: {'init': 'k-means++', 'max_iter': 100, 'n_clusters': 5}\n",
            "                                                 Lyric   Feeling\n",
            "0    vintage tee brand new phone high heels on cobb...  Romantic\n",
            "1    justin vernon i can see you standing honey wit...     Party\n",
            "2    we could leave the christmas lights up 'til ja...  Romantic\n",
            "3    i'm doing good i'm on some new shit been sayin...  Romantic\n",
            "4    i don't like your little games don't like your...     Party\n",
            "..                                                 ...       ...\n",
            "474  drew looks at me i fake a smile so he won't se...     Happy\n",
            "475  to put it plainly we just couldnt stop writing...  Romantic\n",
            "476  turn wycd on you're on your grunwald back from...  Romantic\n",
            "477  zwrotka  siedzę i patrzę jak czytasz z głową p...  Romantic\n",
            "478  trying just like they say just taking the step...     Party\n",
            "\n",
            "[477 rows x 2 columns]\n",
            "Predicted Feeling: Happy\n"
          ]
        }
      ]
    }
  ]
}